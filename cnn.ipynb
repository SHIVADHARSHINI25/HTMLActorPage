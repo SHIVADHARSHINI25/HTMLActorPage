{
  "nbformat": 4,
  "nbformat_minor": 0,
  "metadata": {
    "colab": {
      "provenance": [],
      "mount_file_id": "1Q1Gc0w3s_fKN0HsTG3scUXStZS2qxLMV",
      "authorship_tag": "ABX9TyO5S5lfPJIHKPVmejJppoW8",
      "include_colab_link": true
    },
    "kernelspec": {
      "name": "python3",
      "display_name": "Python 3"
    },
    "language_info": {
      "name": "python"
    }
  },
  "cells": [
    {
      "cell_type": "markdown",
      "metadata": {
        "id": "view-in-github",
        "colab_type": "text"
      },
      "source": [
        "<a href=\"https://colab.research.google.com/github/SHIVADHARSHINI25/HTMLActorPage/blob/main/cnn.ipynb\" target=\"_parent\"><img src=\"https://colab.research.google.com/assets/colab-badge.svg\" alt=\"Open In Colab\"/></a>"
      ]
    },
    {
      "cell_type": "code",
      "source": [
        "# Mount Google Drive if your dataset is stored there\n",
        "from google.colab import drive\n",
        "drive.mount('/content/drive')\n",
        "\n",
        "# Navigate to your dataset folder\n",
        "import os\n",
        "os.chdir('/content/drive/MyDrive/CrowdDataset')  # Change path accordingly\n"
      ],
      "metadata": {
        "colab": {
          "base_uri": "https://localhost:8080/"
        },
        "id": "zIvGb9rl052s",
        "outputId": "5bcb4edf-4909-4dc0-d0cd-3ebeb354a49a"
      },
      "execution_count": 19,
      "outputs": [
        {
          "output_type": "stream",
          "name": "stdout",
          "text": [
            "Drive already mounted at /content/drive; to attempt to forcibly remount, call drive.mount(\"/content/drive\", force_remount=True).\n"
          ]
        }
      ]
    },
    {
      "cell_type": "code",
      "source": [
        "from google.colab import drive\n",
        "drive.mount('/content/drive')"
      ],
      "metadata": {
        "colab": {
          "base_uri": "https://localhost:8080/"
        },
        "id": "8TJBCqRvzeP8",
        "outputId": "b2cd3443-fcfe-436c-852b-dac7a6c59fbf"
      },
      "execution_count": null,
      "outputs": [
        {
          "output_type": "stream",
          "name": "stdout",
          "text": [
            "Drive already mounted at /content/drive; to attempt to forcibly remount, call drive.mount(\"/content/drive\", force_remount=True).\n"
          ]
        }
      ]
    },
    {
      "cell_type": "code",
      "source": [
        "import tensorflow as tf\n",
        "from tensorflow.keras import layers, models\n",
        "import numpy as np\n",
        "import matplotlib.pyplot as plt\n",
        "import cv2\n",
        "import os\n"
      ],
      "metadata": {
        "id": "RWwFeP-f1I9x"
      },
      "execution_count": null,
      "outputs": []
    },
    {
      "cell_type": "code",
      "source": [
        "\n",
        "\n",
        "# Step 2: Check inside your dataset folder\n",
        "!ls /content/drive/MyDrive/CrowdDataset\n"
      ],
      "metadata": {
        "colab": {
          "base_uri": "https://localhost:8080/"
        },
        "id": "MxJnN3Et2A3Y",
        "outputId": "7aa6dde9-bc81-499c-c65f-5b9cfec72dfc"
      },
      "execution_count": null,
      "outputs": [
        {
          "output_type": "stream",
          "name": "stdout",
          "text": [
            "test  train  val\n"
          ]
        }
      ]
    },
    {
      "cell_type": "code",
      "source": [
        "!ls /content/drive/MyDrive/CrowdDataset/test\n",
        "\n"
      ],
      "metadata": {
        "colab": {
          "base_uri": "https://localhost:8080/"
        },
        "id": "XjfAr0ID22Dh",
        "outputId": "6def20a5-0610-467e-bb83-98d58b9cd193"
      },
      "execution_count": 22,
      "outputs": [
        {
          "output_type": "stream",
          "name": "stdout",
          "text": [
            "growth_truth  images\n"
          ]
        }
      ]
    },
    {
      "cell_type": "code",
      "source": [
        "!ls /content/drive/MyDrive/CrowdDataset/train/ground_truth | head -10\n",
        "\n"
      ],
      "metadata": {
        "colab": {
          "base_uri": "https://localhost:8080/"
        },
        "id": "O49kLyuf4Mei",
        "outputId": "065d107e-72e4-4613-f2de-4ba3ec7655aa"
      },
      "execution_count": null,
      "outputs": [
        {
          "output_type": "stream",
          "name": "stdout",
          "text": [
            "GT_IMG_61.mat\n",
            "GT_IMG_62.mat\n",
            "GT_IMG_63.mat\n",
            "GT_IMG_64.mat\n",
            "GT_IMG_65.mat\n",
            "GT_IMG_66.mat\n",
            "GT_IMG_67.mat\n",
            "GT_IMG_68.mat\n",
            "GT_IMG_69.mat\n",
            "GT_IMG_70.mat\n"
          ]
        }
      ]
    },
    {
      "cell_type": "code",
      "source": [
        "import scipy.io\n",
        "import os, cv2\n",
        "import numpy as np\n",
        "\n",
        "IMG_SIZE = 128  # Resize images for CNN\n",
        "\n",
        "def load_data(img_dir, gt_dir, limit=None):\n",
        "    X, y = [], []\n",
        "    img_files = sorted(os.listdir(img_dir))\n",
        "\n",
        "    if limit:\n",
        "        img_files = img_files[:limit]\n",
        "\n",
        "    for img_name in img_files:\n",
        "        img_path = os.path.join(img_dir, img_name)\n",
        "        gt_name  = \"GT_\" + img_name.replace('.jpg', '.mat')  # ✅ add GT_ prefix\n",
        "        gt_path  = os.path.join(gt_dir, gt_name)\n",
        "\n",
        "        # Load and preprocess image\n",
        "        img = cv2.imread(img_path)\n",
        "        img = cv2.resize(img, (IMG_SIZE, IMG_SIZE))\n",
        "        img = img / 255.0\n",
        "        X.append(img)\n",
        "\n",
        "        # Load ground truth (.mat file)\n",
        "        mat = scipy.io.loadmat(gt_path)\n",
        "        points = mat[\"image_info\"][0,0][0,0][0]   # ShanghaiTech format\n",
        "        count = points.shape[0]   # number of heads\n",
        "        y.append(count)\n",
        "\n",
        "    return np.array(X), np.array(y)\n",
        "\n",
        "# ✅ Load TRAIN data\n",
        "train_img_dir = \"/content/drive/MyDrive/CrowdDataset/train/images\"\n",
        "train_gt_dir  = \"/content/drive/MyDrive/CrowdDataset/train/ground_truth\"\n",
        "\n",
        "X_train, y_train = load_data(train_img_dir, train_gt_dir, limit=200)\n",
        "print(\"Train data shape:\", X_train.shape, y_train.shape)\n",
        "print(\"Sample counts:\", y_train[:10])\n"
      ],
      "metadata": {
        "colab": {
          "base_uri": "https://localhost:8080/"
        },
        "id": "UPjKxFXI4z4S",
        "outputId": "70105da5-7394-4b44-8165-e06f236b72e3"
      },
      "execution_count": null,
      "outputs": [
        {
          "output_type": "stream",
          "name": "stdout",
          "text": [
            "Train data shape: (21, 128, 128, 3) (21,)\n",
            "Sample counts: [ 88 643 241 212 427 850 163 199 367 418]\n"
          ]
        }
      ]
    },
    {
      "cell_type": "code",
      "source": [
        "import scipy.io\n",
        "import os, cv2\n",
        "import numpy as np\n",
        "\n",
        "IMG_SIZE = 128  # Resize images for CNN\n",
        "\n",
        "def load_data(img_dir, gt_dir, limit=None):\n",
        "    X, y = [], []\n",
        "    img_files = sorted(os.listdir(img_dir))\n",
        "\n",
        "    if limit:\n",
        "        img_files = img_files[:limit]\n",
        "\n",
        "    for img_name in img_files:\n",
        "        img_path = os.path.join(img_dir, img_name)\n",
        "        gt_name  = \"GT_\" + img_name.replace('.jpg', '.mat')  # ✅ add GT_ prefix\n",
        "        gt_path  = os.path.join(gt_dir, gt_name)\n",
        "\n",
        "        # Load and preprocess image\n",
        "        img = cv2.imread(img_path)\n",
        "        img = cv2.resize(img, (IMG_SIZE, IMG_SIZE))\n",
        "        img = img / 255.0\n",
        "        X.append(img)\n",
        "\n",
        "        # Load ground truth (.mat file)\n",
        "        mat = scipy.io.loadmat(gt_path)\n",
        "        points = mat[\"image_info\"][0,0][0,0][0]   # ShanghaiTech format\n",
        "        count = points.shape[0]   # number of heads\n",
        "        y.append(count)\n",
        "\n",
        "    return np.array(X), np.array(y)\n",
        "\n",
        "\n",
        "# ✅ TRAIN data\n",
        "train_img_dir = \"/content/drive/MyDrive/CrowdDataset/train/images\"\n",
        "train_gt_dir  = \"/content/drive/MyDrive/CrowdDataset/train/ground_truth\"\n",
        "\n",
        "X_train, y_train = load_data(train_img_dir, train_gt_dir, limit=200)\n",
        "print(\"Train data shape:\", X_train.shape, y_train.shape)\n",
        "print(\"Sample train counts:\", y_train[:10])\n",
        "\n",
        "\n",
        "# ✅ VAL data\n",
        "val_img_dir = \"/content/drive/MyDrive/CrowdDataset/val/images\"\n",
        "val_gt_dir  = \"/content/drive/MyDrive/CrowdDataset/val/ground_truth\"\n",
        "\n",
        "X_val, y_val = load_data(val_img_dir, val_gt_dir, limit=50)\n",
        "print(\"Val data shape:\", X_val.shape, y_val.shape)\n",
        "print(\"Sample val counts:\", y_val[:10])\n",
        "\n",
        "\n",
        "# ✅ TEST data\n",
        "test_img_dir = \"/content/drive/MyDrive/CrowdDataset/test/images\"\n",
        "test_gt_dir  = \"/content/drive/MyDrive/CrowdDataset/test/growth_truth\"\n",
        "\n",
        "X_test, y_test = load_data(test_img_dir, test_gt_dir, limit=50)\n",
        "print(\"Test data shape:\", X_test.shape, y_test.shape)\n",
        "print(\"Sample test counts:\", y_test[:10])\n"
      ],
      "metadata": {
        "colab": {
          "base_uri": "https://localhost:8080/"
        },
        "id": "dt-_dQQL7pE6",
        "outputId": "98066d2c-3209-4b15-a0a1-7a8c9785c5f7"
      },
      "execution_count": 24,
      "outputs": [
        {
          "output_type": "stream",
          "name": "stdout",
          "text": [
            "Train data shape: (21, 128, 128, 3) (21,)\n",
            "Sample train counts: [ 88 643 241 212 427 850 163 199 367 418]\n",
            "Val data shape: (21, 128, 128, 3) (21,)\n",
            "Sample val counts: [ 88 643 241 212 427 850 163 199 367 418]\n",
            "Test data shape: (21, 128, 128, 3) (21,)\n",
            "Sample test counts: [236 249 797 116 366 138 373 316 384 511]\n"
          ]
        }
      ]
    },
    {
      "cell_type": "code",
      "source": [
        "import tensorflow as tf\n",
        "from tensorflow.keras import layers, models\n",
        "\n",
        "# CNN Model for Crowd Counting\n",
        "model = models.Sequential([\n",
        "    layers.Conv2D(32, (3,3), activation='relu', input_shape=(128, 128, 3)),\n",
        "    layers.MaxPooling2D(2,2),\n",
        "    layers.Conv2D(64, (3,3), activation='relu'),\n",
        "    layers.MaxPooling2D(2,2),\n",
        "    layers.Conv2D(128, (3,3), activation='relu'),\n",
        "    layers.GlobalAveragePooling2D(),\n",
        "    layers.Dense(64, activation='relu'),\n",
        "    layers.Dense(1)   # Regression (predict count)\n",
        "])\n",
        "\n",
        "model.compile(optimizer='adam', loss='mse', metrics=['mae'])\n",
        "\n",
        "# Train\n",
        "history = model.fit(\n",
        "    X_train, y_train,\n",
        "    validation_data=(X_val, y_val),\n",
        "    epochs=50,\n",
        "    batch_size=4,\n",
        "    verbose=1\n",
        ")\n",
        "\n",
        "# Evaluate\n",
        "test_loss, test_mae = model.evaluate(X_test, y_test)\n",
        "print(\"✅ Test MAE:\", test_mae)\n"
      ],
      "metadata": {
        "colab": {
          "base_uri": "https://localhost:8080/"
        },
        "id": "wflYL9D--nfb",
        "outputId": "0f21f00a-b660-43ee-dfe9-68aae7ac4e42"
      },
      "execution_count": 25,
      "outputs": [
        {
          "metadata": {
            "tags": null
          },
          "name": "stderr",
          "output_type": "stream",
          "text": [
            "/usr/local/lib/python3.12/dist-packages/keras/src/layers/convolutional/base_conv.py:113: UserWarning: Do not pass an `input_shape`/`input_dim` argument to a layer. When using Sequential models, prefer using an `Input(shape)` object as the first layer in the model instead.\n",
            "  super().__init__(activity_regularizer=activity_regularizer, **kwargs)\n"
          ]
        },
        {
          "output_type": "stream",
          "name": "stdout",
          "text": [
            "Epoch 1/50\n",
            "\u001b[1m6/6\u001b[0m \u001b[32m━━━━━━━━━━━━━━━━━━━━\u001b[0m\u001b[37m\u001b[0m \u001b[1m4s\u001b[0m 178ms/step - loss: 248059.7344 - mae: 357.0948 - val_loss: 342632.5312 - val_mae: 421.2528\n",
            "Epoch 2/50\n",
            "\u001b[1m6/6\u001b[0m \u001b[32m━━━━━━━━━━━━━━━━━━━━\u001b[0m\u001b[37m\u001b[0m \u001b[1m1s\u001b[0m 151ms/step - loss: 323954.2188 - mae: 416.9854 - val_loss: 329742.2500 - val_mae: 405.6624\n",
            "Epoch 3/50\n",
            "\u001b[1m6/6\u001b[0m \u001b[32m━━━━━━━━━━━━━━━━━━━━\u001b[0m\u001b[37m\u001b[0m \u001b[1m1s\u001b[0m 119ms/step - loss: 363586.6250 - mae: 417.2907 - val_loss: 292925.8125 - val_mae: 357.0663\n",
            "Epoch 4/50\n",
            "\u001b[1m6/6\u001b[0m \u001b[32m━━━━━━━━━━━━━━━━━━━━\u001b[0m\u001b[37m\u001b[0m \u001b[1m1s\u001b[0m 125ms/step - loss: 190743.2188 - mae: 287.3695 - val_loss: 214841.0312 - val_mae: 239.7491\n",
            "Epoch 5/50\n",
            "\u001b[1m6/6\u001b[0m \u001b[32m━━━━━━━━━━━━━━━━━━━━\u001b[0m\u001b[37m\u001b[0m \u001b[1m1s\u001b[0m 123ms/step - loss: 107392.5781 - mae: 189.2816 - val_loss: 173614.2656 - val_mae: 268.1887\n",
            "Epoch 6/50\n",
            "\u001b[1m6/6\u001b[0m \u001b[32m━━━━━━━━━━━━━━━━━━━━\u001b[0m\u001b[37m\u001b[0m \u001b[1m1s\u001b[0m 123ms/step - loss: 106232.6016 - mae: 232.8518 - val_loss: 175793.2812 - val_mae: 276.5741\n",
            "Epoch 7/50\n",
            "\u001b[1m6/6\u001b[0m \u001b[32m━━━━━━━━━━━━━━━━━━━━\u001b[0m\u001b[37m\u001b[0m \u001b[1m1s\u001b[0m 123ms/step - loss: 208079.7344 - mae: 292.9592 - val_loss: 171439.5781 - val_mae: 255.8782\n",
            "Epoch 8/50\n",
            "\u001b[1m6/6\u001b[0m \u001b[32m━━━━━━━━━━━━━━━━━━━━\u001b[0m\u001b[37m\u001b[0m \u001b[1m1s\u001b[0m 120ms/step - loss: 125716.1953 - mae: 226.5829 - val_loss: 176806.4375 - val_mae: 228.7829\n",
            "Epoch 9/50\n",
            "\u001b[1m6/6\u001b[0m \u001b[32m━━━━━━━━━━━━━━━━━━━━\u001b[0m\u001b[37m\u001b[0m \u001b[1m1s\u001b[0m 121ms/step - loss: 101592.6875 - mae: 193.4698 - val_loss: 176078.5000 - val_mae: 229.3231\n",
            "Epoch 10/50\n",
            "\u001b[1m6/6\u001b[0m \u001b[32m━━━━━━━━━━━━━━━━━━━━\u001b[0m\u001b[37m\u001b[0m \u001b[1m1s\u001b[0m 119ms/step - loss: 216128.9375 - mae: 268.3023 - val_loss: 170459.2656 - val_mae: 247.2212\n",
            "Epoch 11/50\n",
            "\u001b[1m6/6\u001b[0m \u001b[32m━━━━━━━━━━━━━━━━━━━━\u001b[0m\u001b[37m\u001b[0m \u001b[1m1s\u001b[0m 133ms/step - loss: 298276.0312 - mae: 309.4835 - val_loss: 171508.9375 - val_mae: 263.0306\n",
            "Epoch 12/50\n",
            "\u001b[1m6/6\u001b[0m \u001b[32m━━━━━━━━━━━━━━━━━━━━\u001b[0m\u001b[37m\u001b[0m \u001b[1m2s\u001b[0m 219ms/step - loss: 154742.0938 - mae: 251.1999 - val_loss: 172904.6094 - val_mae: 270.6147\n",
            "Epoch 13/50\n",
            "\u001b[1m6/6\u001b[0m \u001b[32m━━━━━━━━━━━━━━━━━━━━\u001b[0m\u001b[37m\u001b[0m \u001b[1m1s\u001b[0m 213ms/step - loss: 85455.3438 - mae: 223.1365 - val_loss: 170142.1562 - val_mae: 254.0081\n",
            "Epoch 14/50\n",
            "\u001b[1m6/6\u001b[0m \u001b[32m━━━━━━━━━━━━━━━━━━━━\u001b[0m\u001b[37m\u001b[0m \u001b[1m2s\u001b[0m 159ms/step - loss: 309048.6250 - mae: 342.1526 - val_loss: 181879.3906 - val_mae: 300.9011\n",
            "Epoch 15/50\n",
            "\u001b[1m6/6\u001b[0m \u001b[32m━━━━━━━━━━━━━━━━━━━━\u001b[0m\u001b[37m\u001b[0m \u001b[1m1s\u001b[0m 133ms/step - loss: 138875.1719 - mae: 272.3842 - val_loss: 174189.7812 - val_mae: 277.8161\n",
            "Epoch 16/50\n",
            "\u001b[1m6/6\u001b[0m \u001b[32m━━━━━━━━━━━━━━━━━━━━\u001b[0m\u001b[37m\u001b[0m \u001b[1m1s\u001b[0m 121ms/step - loss: 109139.6562 - mae: 242.5575 - val_loss: 169551.7188 - val_mae: 242.0972\n",
            "Epoch 17/50\n",
            "\u001b[1m6/6\u001b[0m \u001b[32m━━━━━━━━━━━━━━━━━━━━\u001b[0m\u001b[37m\u001b[0m \u001b[1m1s\u001b[0m 146ms/step - loss: 302167.0312 - mae: 311.0526 - val_loss: 170173.5625 - val_mae: 238.4024\n",
            "Epoch 18/50\n",
            "\u001b[1m6/6\u001b[0m \u001b[32m━━━━━━━━━━━━━━━━━━━━\u001b[0m\u001b[37m\u001b[0m \u001b[1m1s\u001b[0m 150ms/step - loss: 73121.2422 - mae: 181.1290 - val_loss: 169083.6875 - val_mae: 242.2913\n",
            "Epoch 19/50\n",
            "\u001b[1m6/6\u001b[0m \u001b[32m━━━━━━━━━━━━━━━━━━━━\u001b[0m\u001b[37m\u001b[0m \u001b[1m1s\u001b[0m 122ms/step - loss: 79783.7969 - mae: 214.5357 - val_loss: 179482.6719 - val_mae: 297.7375\n",
            "Epoch 20/50\n",
            "\u001b[1m6/6\u001b[0m \u001b[32m━━━━━━━━━━━━━━━━━━━━\u001b[0m\u001b[37m\u001b[0m \u001b[1m1s\u001b[0m 125ms/step - loss: 177262.1719 - mae: 323.6877 - val_loss: 211016.0312 - val_mae: 360.8351\n",
            "Epoch 21/50\n",
            "\u001b[1m6/6\u001b[0m \u001b[32m━━━━━━━━━━━━━━━━━━━━\u001b[0m\u001b[37m\u001b[0m \u001b[1m1s\u001b[0m 124ms/step - loss: 150653.5781 - mae: 315.6462 - val_loss: 176638.0312 - val_mae: 291.0930\n",
            "Epoch 22/50\n",
            "\u001b[1m6/6\u001b[0m \u001b[32m━━━━━━━━━━━━━━━━━━━━\u001b[0m\u001b[37m\u001b[0m \u001b[1m1s\u001b[0m 125ms/step - loss: 128950.0469 - mae: 239.5203 - val_loss: 168538.6250 - val_mae: 239.6482\n",
            "Epoch 23/50\n",
            "\u001b[1m6/6\u001b[0m \u001b[32m━━━━━━━━━━━━━━━━━━━━\u001b[0m\u001b[37m\u001b[0m \u001b[1m2s\u001b[0m 221ms/step - loss: 152965.5781 - mae: 219.7033 - val_loss: 173718.1250 - val_mae: 228.1720\n",
            "Epoch 24/50\n",
            "\u001b[1m6/6\u001b[0m \u001b[32m━━━━━━━━━━━━━━━━━━━━\u001b[0m\u001b[37m\u001b[0m \u001b[1m1s\u001b[0m 223ms/step - loss: 210317.0938 - mae: 244.3573 - val_loss: 173237.6875 - val_mae: 228.6503\n",
            "Epoch 25/50\n",
            "\u001b[1m6/6\u001b[0m \u001b[32m━━━━━━━━━━━━━━━━━━━━\u001b[0m\u001b[37m\u001b[0m \u001b[1m2s\u001b[0m 125ms/step - loss: 156854.2500 - mae: 220.1364 - val_loss: 170956.3750 - val_mae: 232.2825\n",
            "Epoch 26/50\n",
            "\u001b[1m6/6\u001b[0m \u001b[32m━━━━━━━━━━━━━━━━━━━━\u001b[0m\u001b[37m\u001b[0m \u001b[1m1s\u001b[0m 136ms/step - loss: 198349.1406 - mae: 242.5052 - val_loss: 167934.4062 - val_mae: 239.6071\n",
            "Epoch 27/50\n",
            "\u001b[1m6/6\u001b[0m \u001b[32m━━━━━━━━━━━━━━━━━━━━\u001b[0m\u001b[37m\u001b[0m \u001b[1m1s\u001b[0m 126ms/step - loss: 102452.1406 - mae: 225.9713 - val_loss: 167215.1562 - val_mae: 254.7277\n",
            "Epoch 28/50\n",
            "\u001b[1m6/6\u001b[0m \u001b[32m━━━━━━━━━━━━━━━━━━━━\u001b[0m\u001b[37m\u001b[0m \u001b[1m1s\u001b[0m 151ms/step - loss: 95324.7422 - mae: 215.1122 - val_loss: 167791.6719 - val_mae: 261.0982\n",
            "Epoch 29/50\n",
            "\u001b[1m6/6\u001b[0m \u001b[32m━━━━━━━━━━━━━━━━━━━━\u001b[0m\u001b[37m\u001b[0m \u001b[1m1s\u001b[0m 122ms/step - loss: 151055.3594 - mae: 248.4699 - val_loss: 167197.9219 - val_mae: 258.2285\n",
            "Epoch 30/50\n",
            "\u001b[1m6/6\u001b[0m \u001b[32m━━━━━━━━━━━━━━━━━━━━\u001b[0m\u001b[37m\u001b[0m \u001b[1m1s\u001b[0m 123ms/step - loss: 82581.6953 - mae: 215.7162 - val_loss: 166450.0469 - val_mae: 250.6962\n",
            "Epoch 31/50\n",
            "\u001b[1m6/6\u001b[0m \u001b[32m━━━━━━━━━━━━━━━━━━━━\u001b[0m\u001b[37m\u001b[0m \u001b[1m1s\u001b[0m 119ms/step - loss: 148349.3594 - mae: 242.4070 - val_loss: 173811.1406 - val_mae: 288.9542\n",
            "Epoch 32/50\n",
            "\u001b[1m6/6\u001b[0m \u001b[32m━━━━━━━━━━━━━━━━━━━━\u001b[0m\u001b[37m\u001b[0m \u001b[1m1s\u001b[0m 122ms/step - loss: 285133.0625 - mae: 340.0601 - val_loss: 173081.7969 - val_mae: 287.9211\n",
            "Epoch 33/50\n",
            "\u001b[1m6/6\u001b[0m \u001b[32m━━━━━━━━━━━━━━━━━━━━\u001b[0m\u001b[37m\u001b[0m \u001b[1m1s\u001b[0m 149ms/step - loss: 161327.9219 - mae: 274.4062 - val_loss: 165919.0312 - val_mae: 241.7580\n",
            "Epoch 34/50\n",
            "\u001b[1m6/6\u001b[0m \u001b[32m━━━━━━━━━━━━━━━━━━━━\u001b[0m\u001b[37m\u001b[0m \u001b[1m1s\u001b[0m 123ms/step - loss: 95427.9375 - mae: 196.5860 - val_loss: 170883.2500 - val_mae: 229.2603\n",
            "Epoch 35/50\n",
            "\u001b[1m6/6\u001b[0m \u001b[32m━━━━━━━━━━━━━━━━━━━━\u001b[0m\u001b[37m\u001b[0m \u001b[1m1s\u001b[0m 173ms/step - loss: 153569.9062 - mae: 222.1346 - val_loss: 169402.8125 - val_mae: 231.4509\n",
            "Epoch 36/50\n",
            "\u001b[1m6/6\u001b[0m \u001b[32m━━━━━━━━━━━━━━━━━━━━\u001b[0m\u001b[37m\u001b[0m \u001b[1m2s\u001b[0m 217ms/step - loss: 116416.1562 - mae: 199.9465 - val_loss: 166966.8906 - val_mae: 236.2519\n",
            "Epoch 37/50\n",
            "\u001b[1m6/6\u001b[0m \u001b[32m━━━━━━━━━━━━━━━━━━━━\u001b[0m\u001b[37m\u001b[0m \u001b[1m1s\u001b[0m 203ms/step - loss: 143872.5938 - mae: 214.4370 - val_loss: 164895.8594 - val_mae: 244.4581\n",
            "Epoch 38/50\n",
            "\u001b[1m6/6\u001b[0m \u001b[32m━━━━━━━━━━━━━━━━━━━━\u001b[0m\u001b[37m\u001b[0m \u001b[1m1s\u001b[0m 148ms/step - loss: 124490.3359 - mae: 238.1011 - val_loss: 164857.5312 - val_mae: 254.8502\n",
            "Epoch 39/50\n",
            "\u001b[1m6/6\u001b[0m \u001b[32m━━━━━━━━━━━━━━━━━━━━\u001b[0m\u001b[37m\u001b[0m \u001b[1m1s\u001b[0m 120ms/step - loss: 83736.5859 - mae: 222.1875 - val_loss: 164585.2812 - val_mae: 254.7731\n",
            "Epoch 40/50\n",
            "\u001b[1m6/6\u001b[0m \u001b[32m━━━━━━━━━━━━━━━━━━━━\u001b[0m\u001b[37m\u001b[0m \u001b[1m1s\u001b[0m 121ms/step - loss: 291067.3125 - mae: 332.8872 - val_loss: 175205.3906 - val_mae: 299.4277\n",
            "Epoch 41/50\n",
            "\u001b[1m6/6\u001b[0m \u001b[32m━━━━━━━━━━━━━━━━━━━━\u001b[0m\u001b[37m\u001b[0m \u001b[1m1s\u001b[0m 119ms/step - loss: 283213.4688 - mae: 358.8677 - val_loss: 167742.9219 - val_mae: 278.2917\n",
            "Epoch 42/50\n",
            "\u001b[1m6/6\u001b[0m \u001b[32m━━━━━━━━━━━━━━━━━━━━\u001b[0m\u001b[37m\u001b[0m \u001b[1m1s\u001b[0m 153ms/step - loss: 127887.0703 - mae: 252.2837 - val_loss: 163224.2188 - val_mae: 245.6388\n",
            "Epoch 43/50\n",
            "\u001b[1m6/6\u001b[0m \u001b[32m━━━━━━━━━━━━━━━━━━━━\u001b[0m\u001b[37m\u001b[0m \u001b[1m1s\u001b[0m 149ms/step - loss: 198066.4375 - mae: 274.3513 - val_loss: 164723.5938 - val_mae: 236.5840\n",
            "Epoch 44/50\n",
            "\u001b[1m6/6\u001b[0m \u001b[32m━━━━━━━━━━━━━━━━━━━━\u001b[0m\u001b[37m\u001b[0m \u001b[1m1s\u001b[0m 133ms/step - loss: 120440.1562 - mae: 221.0974 - val_loss: 166266.4219 - val_mae: 232.6036\n",
            "Epoch 45/50\n",
            "\u001b[1m6/6\u001b[0m \u001b[32m━━━━━━━━━━━━━━━━━━━━\u001b[0m\u001b[37m\u001b[0m \u001b[1m1s\u001b[0m 152ms/step - loss: 115608.4531 - mae: 204.6482 - val_loss: 165284.1562 - val_mae: 234.1758\n",
            "Epoch 46/50\n",
            "\u001b[1m6/6\u001b[0m \u001b[32m━━━━━━━━━━━━━━━━━━━━\u001b[0m\u001b[37m\u001b[0m \u001b[1m1s\u001b[0m 134ms/step - loss: 80025.7969 - mae: 204.5363 - val_loss: 162555.4062 - val_mae: 242.4308\n",
            "Epoch 47/50\n",
            "\u001b[1m6/6\u001b[0m \u001b[32m━━━━━━━━━━━━━━━━━━━━\u001b[0m\u001b[37m\u001b[0m \u001b[1m1s\u001b[0m 162ms/step - loss: 120054.8906 - mae: 241.2665 - val_loss: 171299.4062 - val_mae: 295.2689\n",
            "Epoch 48/50\n",
            "\u001b[1m6/6\u001b[0m \u001b[32m━━━━━━━━━━━━━━━━━━━━\u001b[0m\u001b[37m\u001b[0m \u001b[1m2s\u001b[0m 215ms/step - loss: 134108.3125 - mae: 277.4285 - val_loss: 165669.0938 - val_mae: 278.5835\n",
            "Epoch 49/50\n",
            "\u001b[1m6/6\u001b[0m \u001b[32m━━━━━━━━━━━━━━━━━━━━\u001b[0m\u001b[37m\u001b[0m \u001b[1m1s\u001b[0m 210ms/step - loss: 278160.5938 - mae: 349.2122 - val_loss: 161021.0781 - val_mae: 247.8631\n",
            "Epoch 50/50\n",
            "\u001b[1m6/6\u001b[0m \u001b[32m━━━━━━━━━━━━━━━━━━━━\u001b[0m\u001b[37m\u001b[0m \u001b[1m2s\u001b[0m 124ms/step - loss: 120238.9141 - mae: 224.8022 - val_loss: 163255.0625 - val_mae: 234.8701\n",
            "\u001b[1m1/1\u001b[0m \u001b[32m━━━━━━━━━━━━━━━━━━━━\u001b[0m\u001b[37m\u001b[0m \u001b[1m0s\u001b[0m 186ms/step - loss: 54105.0117 - mae: 171.7775\n",
            "✅ Test MAE: 171.77749633789062\n"
          ]
        }
      ]
    },
    {
      "cell_type": "code",
      "source": [
        "plt.plot(history.history['loss'], label='Train Loss')\n",
        "plt.plot(history.history['val_loss'], label='Val Loss')\n",
        "plt.legend()\n",
        "plt.show()\n"
      ],
      "metadata": {
        "colab": {
          "base_uri": "https://localhost:8080/",
          "height": 430
        },
        "id": "JmZPatkm_VgN",
        "outputId": "637f22ff-d127-41f0-d92f-6213b4608922"
      },
      "execution_count": 26,
      "outputs": [
        {
          "output_type": "display_data",
          "data": {
            "text/plain": [
              "<Figure size 640x480 with 1 Axes>"
            ],
            "image/png": "[encoded data removed]"
          },
          "metadata": {}
        }
      ]
    },
    {
      "cell_type": "code",
      "source": [
        "# Pick first test image\n",
        "test_img = X_test[0].reshape(1, IMG_SIZE, IMG_SIZE, 3)\n",
        "\n",
        "# Predict\n",
        "pred_count = model.predict(test_img)[0][0]\n",
        "print(\"Predicted Count:\", round(pred_count))\n",
        "print(\"Ground Truth Count:\", y_test[0])\n"
      ],
      "metadata": {
        "colab": {
          "base_uri": "https://localhost:8080/"
        },
        "id": "yloqqqQI_npS",
        "outputId": "66af4ca4-2d47-43bb-a060-8c843344d717"
      },
      "execution_count": 28,
      "outputs": [
        {
          "output_type": "stream",
          "name": "stdout",
          "text": [
            "\u001b[1m1/1\u001b[0m \u001b[32m━━━━━━━━━━━━━━━━━━━━\u001b[0m\u001b[37m\u001b[0m \u001b[1m0s\u001b[0m 115ms/step\n",
            "Predicted Count: 384\n",
            "Ground Truth Count: 236\n"
          ]
        }
      ]
    },
    {
      "cell_type": "code",
      "source": [
        "test_loss, test_mae = model.evaluate(X_test, y_test, verbose=1)\n",
        "print(\"Test MSE (Loss):\", test_loss)\n",
        "print(\"Test MAE:\", test_mae)\n"
      ],
      "metadata": {
        "colab": {
          "base_uri": "https://localhost:8080/"
        },
        "id": "4CNcoFTn__MO",
        "outputId": "ae9bf033-6d78-478c-d460-edd0dac75a81"
      },
      "execution_count": 30,
      "outputs": [
        {
          "output_type": "stream",
          "name": "stdout",
          "text": [
            "\u001b[1m1/1\u001b[0m \u001b[32m━━━━━━━━━━━━━━━━━━━━\u001b[0m\u001b[37m\u001b[0m \u001b[1m0s\u001b[0m 172ms/step - loss: 54105.0117 - mae: 171.7775\n",
            "Test MSE (Loss): 54105.01171875\n",
            "Test MAE: 171.77749633789062\n"
          ]
        }
      ]
    },
    {
      "cell_type": "code",
      "source": [
        "from sklearn.metrics import mean_squared_error, r2_score\n",
        "import numpy as np\n",
        "\n",
        "# Predictions\n",
        "y_pred = model.predict(X_test).flatten()\n",
        "\n",
        "# RMSE\n",
        "rmse = np.sqrt(mean_squared_error(y_test, y_pred))\n",
        "\n",
        "# R^2 Score\n",
        "r2 = r2_score(y_test, y_pred)\n",
        "\n",
        "print(\"RMSE:\", rmse)\n",
        "print(\"R² Score:\", r2)\n"
      ],
      "metadata": {
        "colab": {
          "base_uri": "https://localhost:8080/"
        },
        "id": "cLe7ivPqAcVm",
        "outputId": "42ae2425-f0f9-470e-ebe7-9947de5dc094"
      },
      "execution_count": 31,
      "outputs": [
        {
          "output_type": "stream",
          "name": "stdout",
          "text": [
            "\u001b[1m1/1\u001b[0m \u001b[32m━━━━━━━━━━━━━━━━━━━━\u001b[0m\u001b[37m\u001b[0m \u001b[1m0s\u001b[0m 257ms/step\n",
            "RMSE: 232.6048402736925\n",
            "R² Score: -0.18027591705322266\n"
          ]
        }
      ]
    },
    {
      "cell_type": "code",
      "source": [
        "from sklearn.metrics import mean_absolute_error\n",
        "\n",
        "# Predictions\n",
        "y_pred = model.predict(X_test).flatten()\n",
        "\n",
        "plt.figure(figsize=(6,6))\n",
        "plt.scatter(y_test, y_pred, color='blue')\n",
        "plt.plot([0, max(y_test)], [0, max(y_test)], 'r--')  # ideal y=x line\n",
        "plt.xlabel(\"Ground Truth Count\")\n",
        "plt.ylabel(\"Predicted Count\")\n",
        "plt.title(\"Predicted vs Ground Truth Counts\")\n",
        "plt.show()\n",
        "\n",
        "mae = mean_absolute_error(y_test, y_pred)\n",
        "print(\"Test MAE:\", mae)\n"
      ],
      "metadata": {
        "colab": {
          "base_uri": "https://localhost:8080/",
          "height": 599
        },
        "id": "ridIVt5wAvAW",
        "outputId": "356a2b20-33c4-4eaa-8ad0-332af02fbfec"
      },
      "execution_count": 32,
      "outputs": [
        {
          "output_type": "stream",
          "name": "stdout",
          "text": [
            "\u001b[1m1/1\u001b[0m \u001b[32m━━━━━━━━━━━━━━━━━━━━\u001b[0m\u001b[37m\u001b[0m \u001b[1m1s\u001b[0m 525ms/step\n"
          ]
        },
        {
          "output_type": "display_data",
          "data": {
            "text/plain": [
              "<Figure size 600x600 with 1 Axes>"
            ],
            "image/png": "[encoded data removed]"
          },
          "metadata": {}
        },
        {
          "output_type": "stream",
          "name": "stdout",
          "text": [
            "Test MAE: 171.77749633789062\n"
          ]
        }
      ]
    },
    {
      "cell_type": "code",
      "source": [
        "y_pred = model.predict(X_test).flatten()\n",
        "\n",
        "for i in range(5):  # check first 5 samples\n",
        "    print(f\"Image {i+1} -> GT: {y_test[i]}, Pred: {round(y_pred[i])}\")\n"
      ],
      "metadata": {
        "colab": {
          "base_uri": "https://localhost:8080/"
        },
        "id": "5B-VqVzb_qY2",
        "outputId": "59277de9-2861-4a15-8ac4-0f9194c43141"
      },
      "execution_count": 29,
      "outputs": [
        {
          "output_type": "stream",
          "name": "stdout",
          "text": [
            "\u001b[1m1/1\u001b[0m \u001b[32m━━━━━━━━━━━━━━━━━━━━\u001b[0m\u001b[37m\u001b[0m \u001b[1m0s\u001b[0m 305ms/step\n",
            "Image 1 -> GT: 236, Pred: 384\n",
            "Image 2 -> GT: 249, Pred: 366\n",
            "Image 3 -> GT: 797, Pred: 359\n",
            "Image 4 -> GT: 116, Pred: 444\n",
            "Image 5 -> GT: 366, Pred: 291\n"
          ]
        }
      ]
    },
    {
      "cell_type": "code",
      "source": [
        "import numpy as np\n",
        "import matplotlib.pyplot as plt\n",
        "import cv2\n",
        "from scipy.ndimage import gaussian_filter\n",
        "from scipy.ndimage import maximum_filter\n",
        "import matplotlib.patches as patches\n",
        "from matplotlib.colors import LinearSegmentedColormap\n",
        "import os\n",
        "from PIL import Image\n",
        "import torch\n",
        "import torchvision.transforms as transforms\n",
        "from google.colab.patches import cv2_imshow\n",
        "\n",
        "class CrowdDensityVisualizer:\n",
        "    def __init__(self):\n",
        "        # Create custom colormap similar to your reference image\n",
        "        colors = ['#000080', '#0080FF', '#00FF80', '#FFFF00', '#FF8000', '#FF0000']\n",
        "        n_bins = 256\n",
        "        self.density_cmap = LinearSegmentedColormap.from_list('density', colors, N=n_bins)\n",
        "\n",
        "    def create_density_map_from_points(self, image_shape, points, sigma=20):\n",
        "        \"\"\"\n",
        "        Create density map from point annotations\n",
        "        Args:\n",
        "            image_shape: (H, W) tuple\n",
        "            points: List of (x, y) coordinates\n",
        "            sigma: Gaussian kernel sigma\n",
        "        \"\"\"\n",
        "        h, w = image_shape\n",
        "        density_map = np.zeros((h, w), dtype=np.float32)\n",
        "\n",
        "        for point in points:\n",
        "            x, y = int(point[0]), int(point[1])\n",
        "            if 0 <= x < w and 0 <= y < h:\n",
        "                density_map[y, x] = 1.0\n",
        "\n",
        "        # Apply Gaussian filter\n",
        "        density_map = gaussian_filter(density_map, sigma=sigma)\n",
        "        return density_map\n",
        "\n",
        "    def create_density_map_from_prediction(self, predicted_density):\n",
        "        \"\"\"\n",
        "        Process model prediction to create visualization-ready density map\n",
        "        Args:\n",
        "            predicted_density: Model output (numpy array or tensor)\n",
        "        \"\"\"\n",
        "        if torch.is_tensor(predicted_density):\n",
        "            predicted_density = predicted_density.detach().cpu().numpy()\n",
        "\n",
        "        # Normalize density map\n",
        "        if predicted_density.max() > 0:\n",
        "            predicted_density = predicted_density / predicted_density.max()\n",
        "\n",
        "        return predicted_density\n",
        "\n",
        "    def visualize_density_comparison(self, images, ground_truth_counts, predicted_counts,\n",
        "                                   density_maps=None, save_path=None, figsize=(20, 12)):\n",
        "        \"\"\"\n",
        "        Create comparison visualization like your reference image\n",
        "        Args:\n",
        "            images: List of images (numpy arrays)\n",
        "            ground_truth_counts: List of ground truth counts\n",
        "            predicted_counts: List of predicted counts\n",
        "            density_maps: List of density maps (optional)\n",
        "            save_path: Path to save the figure\n",
        "        \"\"\"\n",
        "        n_images = len(images)\n",
        "        fig, axes = plt.subplots(2, n_images, figsize=figsize)\n",
        "\n",
        "        if n_images == 1:\n",
        "            axes = axes.reshape(2, 1)\n",
        "\n",
        "        for i in range(n_images):\n",
        "            # Original image with count information\n",
        "            axes[0, i].imshow(images[i])\n",
        "            axes[0, i].set_title(f'GT: {ground_truth_counts[i]}, Pred: {predicted_counts[i]}',\n",
        "                               fontsize=12, fontweight='bold', color='white',\n",
        "                               bbox=dict(boxstyle=\"round,pad=0.3\", facecolor='black', alpha=0.7))\n",
        "            axes[0, i].axis('off')\n",
        "\n",
        "            # Density map\n",
        "            if density_maps is not None and i < len(density_maps):\n",
        "                density_map = density_maps[i]\n",
        "            else:\n",
        "                # Generate sample density map if not provided\n",
        "                density_map = self._generate_sample_density_map(images[i].shape[:2], predicted_counts[i])\n",
        "\n",
        "            im = axes[1, i].imshow(density_map, cmap=self.density_cmap, alpha=0.8)\n",
        "            axes[1, i].imshow(images[i], alpha=0.3)  # Overlay original image with transparency\n",
        "\n",
        "            # Add count information\n",
        "            estimated_count = int(np.sum(density_map) * 100)  # Scale factor for visualization\n",
        "            axes[1, i].set_title(f'Est Count: {estimated_count}',\n",
        "                               fontsize=12, fontweight='bold', color='white',\n",
        "                               bbox=dict(boxstyle=\"round,pad=0.3\", facecolor='blue', alpha=0.7))\n",
        "            axes[1, i].axis('off')\n",
        "\n",
        "        plt.tight_layout()\n",
        "\n",
        "        if save_path:\n",
        "            plt.savefig(save_path, dpi=300, bbox_inches='tight', facecolor='black')\n",
        "\n",
        "        plt.show()\n",
        "\n",
        "    def create_single_density_visualization(self, image, density_map, gt_count, pred_count,\n",
        "                                          title=\"Crowd Density Analysis\", save_path=None):\n",
        "        \"\"\"\n",
        "        Create a single image density visualization\n",
        "        \"\"\"\n",
        "        fig, axes = plt.subplots(1, 2, figsize=(15, 6))\n",
        "        fig.patch.set_facecolor('black')\n",
        "\n",
        "        # Original image\n",
        "        axes[0].imshow(image)\n",
        "        axes[0].set_title(f'Original Image\\nGT: {gt_count}, Pred: {pred_count}',\n",
        "                         fontsize=14, fontweight='bold', color='white')\n",
        "        axes[0].axis('off')\n",
        "\n",
        "        # Density map overlay\n",
        "        axes[1].imshow(image, alpha=0.4)\n",
        "        im = axes[1].imshow(density_map, cmap=self.density_cmap, alpha=0.8)\n",
        "\n",
        "        # Add colorbar\n",
        "        cbar = plt.colorbar(im, ax=axes[1], shrink=0.8)\n",
        "        cbar.set_label('Density Level', color='white', fontsize=12)\n",
        "        cbar.ax.yaxis.set_tick_params(color='white')\n",
        "        plt.setp(plt.getp(cbar.ax.axes, 'yticklabels'), color='white')\n",
        "\n",
        "        estimated_count = int(np.sum(density_map) * 100)\n",
        "        axes[1].set_title(f'Density Map\\nEstimated Count: {estimated_count}',\n",
        "                         fontsize=14, fontweight='bold', color='white')\n",
        "        axes[1].axis('off')\n",
        "\n",
        "        if save_path:\n",
        "            plt.savefig(save_path, dpi=300, bbox_inches='tight', facecolor='black')\n",
        "\n",
        "        plt.show()\n",
        "\n",
        "    def create_grid_visualization(self, images, density_maps, gt_counts, pred_counts,\n",
        "                                grid_size=(2, 3), save_path=None):\n",
        "        \"\"\"\n",
        "        Create a grid layout similar to your reference image\n",
        "        \"\"\"\n",
        "        rows, cols = grid_size\n",
        "        fig, axes = plt.subplots(rows, cols, figsize=(20, 12))\n",
        "        fig.patch.set_facecolor('navy')\n",
        "\n",
        "        if rows == 1:\n",
        "            axes = axes.reshape(1, -1)\n",
        "\n",
        "        for i in range(min(len(images), rows * cols)):\n",
        "            row = i // cols\n",
        "            col = i % cols\n",
        "\n",
        "            # Create density overlay\n",
        "            axes[row, col].imshow(images[i], alpha=0.5)\n",
        "            im = axes[row, col].imshow(density_maps[i], cmap=self.density_cmap, alpha=0.9)\n",
        "\n",
        "            # Add count text\n",
        "            axes[row, col].text(10, 30, f'GT: {gt_counts[i]}',\n",
        "                              fontsize=12, fontweight='bold', color='white',\n",
        "                              bbox=dict(boxstyle=\"round,pad=0.3\", facecolor='black', alpha=0.7))\n",
        "            axes[row, col].text(10, 60, f'Pred: {pred_counts[i]}',\n",
        "                              fontsize=12, fontweight='bold', color='white',\n",
        "                              bbox=dict(boxstyle=\"round,pad=0.3\", facecolor='blue', alpha=0.7))\n",
        "\n",
        "            axes[row, col].axis('off')\n",
        "\n",
        "        # Hide empty subplots\n",
        "        for i in range(len(images), rows * cols):\n",
        "            row = i // cols\n",
        "            col = i % cols\n",
        "            axes[row, col].axis('off')\n",
        "\n",
        "        plt.tight_layout()\n",
        "\n",
        "        if save_path:\n",
        "            plt.savefig(save_path, dpi=300, bbox_inches='tight', facecolor='navy')\n",
        "\n",
        "        plt.show()\n",
        "\n",
        "    def _generate_sample_density_map(self, image_shape, count_estimate):\n",
        "        \"\"\"Generate sample density map for demonstration\"\"\"\n",
        "        h, w = image_shape\n",
        "        density_map = np.zeros((h, w))\n",
        "\n",
        "        # Create random hotspots based on count estimate\n",
        "        n_hotspots = max(1, count_estimate // 50)\n",
        "\n",
        "        for _ in range(n_hotspots):\n",
        "            center_x = np.random.randint(w//4, 3*w//4)\n",
        "            center_y = np.random.randint(h//4, 3*h//4)\n",
        "\n",
        "            # Create Gaussian hotspot\n",
        "            y, x = np.ogrid[:h, :w]\n",
        "            mask = (x - center_x)**2 + (y - center_y)**2 <= (min(h, w)//8)**2\n",
        "            density_map[mask] += np.random.random() * 0.8\n",
        "\n",
        "        # Apply Gaussian smoothing\n",
        "        density_map = gaussian_filter(density_map, sigma=20)\n",
        "\n",
        "        # Normalize\n",
        "        if density_map.max() > 0:\n",
        "            density_map = density_map / density_map.max()\n",
        "\n",
        "        return density_map\n",
        "\n",
        "# Example usage functions for your model integration\n",
        "\n",
        "def integrate_with_your_model(model, image_paths, device='cuda'):\n",
        "    \"\"\"\n",
        "    Example function to integrate with your existing crowd counting model\n",
        "    \"\"\"\n",
        "    visualizer = CrowdDensityVisualizer()\n",
        "\n",
        "    images = []\n",
        "    density_maps = []\n",
        "    gt_counts = []\n",
        "    pred_counts = []\n",
        "\n",
        "    transform = transforms.Compose([\n",
        "        transforms.ToTensor(),\n",
        "        transforms.Normalize(mean=[0.485, 0.456, 0.406], std=[0.229, 0.224, 0.225])\n",
        "    ])\n",
        "\n",
        "    model.eval()\n",
        "    with torch.no_grad():\n",
        "        for img_path in image_paths:\n",
        "            # Load image\n",
        "            image = cv2.imread(img_path)\n",
        "            image_rgb = cv2.cvtColor(image, cv2.COLOR_BGR2RGB)\n",
        "\n",
        "            # Prepare for model\n",
        "            input_tensor = transform(Image.fromarray(image_rgb)).unsqueeze(0).to(device)\n",
        "\n",
        "            # Get model prediction\n",
        "            prediction = model(input_tensor)  # Adjust based on your model output\n",
        "\n",
        "            # Process density map\n",
        "            if isinstance(prediction, tuple):\n",
        "                density_pred = prediction[0]  # Adjust based on your model structure\n",
        "            else:\n",
        "                density_pred = prediction\n",
        "\n",
        "            density_map = visualizer.create_density_map_from_prediction(density_pred.squeeze())\n",
        "\n",
        "            # Resize density map to match original image\n",
        "            density_map_resized = cv2.resize(density_map, (image_rgb.shape[1], image_rgb.shape[0]))\n",
        "\n",
        "            # Calculate counts\n",
        "            pred_count = int(np.sum(density_pred.cpu().numpy()))\n",
        "            gt_count = get_ground_truth_count(img_path)  # Implement this function\n",
        "\n",
        "            images.append(image_rgb)\n",
        "            density_maps.append(density_map_resized)\n",
        "            gt_counts.append(gt_count)\n",
        "            pred_counts.append(pred_count)\n",
        "\n",
        "    return images, density_maps, gt_counts, pred_counts, visualizer\n",
        "\n",
        "def get_ground_truth_count(img_path):\n",
        "    \"\"\"\n",
        "    Extract ground truth count from filename or annotation file\n",
        "    Implement this based on your dataset structure\n",
        "    \"\"\"\n",
        "    # Example: if GT is in filename like \"IMG_001_GT_234.jpg\"\n",
        "    import re\n",
        "    match = re.search(r'GT_(\\d+)', os.path.basename(img_path))\n",
        "    if match:\n",
        "        return int(match.group(1))\n",
        "    return 0\n",
        "\n",
        "# Demo function with sample data\n",
        "def demo_visualization():\n",
        "    \"\"\"Demo function to show how the visualizer works\"\"\"\n",
        "    visualizer = CrowdDensityVisualizer()\n",
        "\n",
        "    # Create sample data\n",
        "    sample_images = []\n",
        "    sample_density_maps = []\n",
        "    sample_gt_counts = [236, 249, 797, 116, 366, 138]\n",
        "    sample_pred_counts = [384, 366, 358, 444, 291, 317]\n",
        "\n",
        "    # Generate sample images and density maps\n",
        "    for i in range(6):\n",
        "        # Create sample image (replace with your actual images)\n",
        "        img = np.random.randint(0, 255, (300, 400, 3), dtype=np.uint8)\n",
        "        # Add some structure to make it look more like a crowd scene\n",
        "        img = gaussian_filter(img, sigma=1.5)\n",
        "\n",
        "        # Generate density map\n",
        "        density_map = visualizer._generate_sample_density_map(\n",
        "            img.shape[:2], sample_pred_counts[i]\n",
        "        )\n",
        "\n",
        "        sample_images.append(img)\n",
        "        sample_density_maps.append(density_map)\n",
        "\n",
        "    # Create grid visualization\n",
        "    visualizer.create_grid_visualization(\n",
        "        sample_images, sample_density_maps,\n",
        "        sample_gt_counts, sample_pred_counts,\n",
        "        grid_size=(2, 3), save_path='crowd_analysis_grid.png'\n",
        "    )\n",
        "\n",
        "    # Create comparison visualization\n",
        "    visualizer.visualize_density_comparison(\n",
        "        sample_images[:3], sample_gt_counts[:3], sample_pred_counts[:3],\n",
        "        sample_density_maps[:3], save_path='crowd_comparison.png'\n",
        "    )\n",
        "\n",
        "# Run the demo\n",
        "if __name__ == \"__main__\":\n",
        "    demo_visualization()\n",
        "\n",
        "# Instructions for integration with your model:\n",
        "\"\"\"\n",
        "1. Replace the demo_visualization() with your actual data\n",
        "2. Use integrate_with_your_model() function with your trained model\n",
        "3. Modify the density map processing based on your model's output format\n",
        "4. Adjust the colormap and styling as needed\n",
        "\n",
        "Example usage:\n",
        "```python\n",
        "# Load your model\n",
        "model = YourCrowdCountingModel()\n",
        "model.load_state_dict(torch.load('your_model.pth'))\n",
        "\n",
        "# Get your image paths\n",
        "image_paths = ['path1.jpg', 'path2.jpg', 'path3.jpg']\n",
        "\n",
        "# Generate visualizations\n",
        "images, density_maps, gt_counts, pred_counts, visualizer = integrate_with_your_model(\n",
        "    model, image_paths, device='cuda'\n",
        ")\n",
        "\n",
        "# Create visualizations\n",
        "visualizer.create_grid_visualization(images, density_maps, gt_counts, pred_counts)\n",
        "```\n",
        "\"\"\""
      ],
      "metadata": {
        "id": "I5u2HqvJBaYD"
      },
      "execution_count": null,
      "outputs": []
    }
  ]
}